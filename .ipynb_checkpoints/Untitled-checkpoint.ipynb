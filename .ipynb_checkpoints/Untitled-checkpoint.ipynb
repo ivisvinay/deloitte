{
 "cells": [
  {
   "cell_type": "code",
   "execution_count": null,
   "metadata": {},
   "outputs": [],
   "source": [
    "pip install opencv-python"
   ]
  },
  {
   "cell_type": "code",
   "execution_count": null,
   "metadata": {},
   "outputs": [],
   "source": [
    "import cv2\n",
    "import numpy as np\n",
    "\n",
    "img1 = cv2.imread('thamer.png',0)\n",
    "\n",
    "cv2.imshow('Original_image',img_dilation)          \n",
    "\n",
    "cv2.waitKey()"
   ]
  },
  {
   "cell_type": "code",
   "execution_count": null,
   "metadata": {},
   "outputs": [],
   "source": [
    "import cv2\n",
    "import numpy as np\n",
    "\n",
    "img1 = cv2.imread('thamer.png',0)\n",
    "\n",
    "ret, otsu = cv2.threshold(img1, 120, 255, cv2.THRESH_OTSU)\n",
    "\n",
    "kernel = np.ones((1,2), np.uint8)\n",
    "\n",
    "\n",
    "img_dilation = cv2.erode(otsu, kernel, iterations=5)\n",
    "\n",
    "imagem = cv2.bitwise_not(img_dilation)\n",
    "\n",
    "cv2.imshow('Dilated_image',img_dilation)          \n",
    "\n",
    "cv2.waitKey()"
   ]
  },
  {
   "cell_type": "code",
   "execution_count": null,
   "metadata": {},
   "outputs": [],
   "source": []
  },
  {
   "cell_type": "code",
   "execution_count": null,
   "metadata": {},
   "outputs": [],
   "source": []
  }
 ],
 "metadata": {
  "kernelspec": {
   "display_name": "Python 3",
   "language": "python",
   "name": "python3"
  },
  "language_info": {
   "codemirror_mode": {
    "name": "ipython",
    "version": 3
   },
   "file_extension": ".py",
   "mimetype": "text/x-python",
   "name": "python",
   "nbconvert_exporter": "python",
   "pygments_lexer": "ipython3",
   "version": "3.8.5"
  }
 },
 "nbformat": 4,
 "nbformat_minor": 4
}
