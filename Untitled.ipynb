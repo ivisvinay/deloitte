{
 "cells": [
  {
   "cell_type": "code",
   "execution_count": null,
   "metadata": {},
   "outputs": [],
   "source": [
    "pip install opencv-python"
   ]
  },
  {
   "cell_type": "code",
   "execution_count": null,
   "metadata": {},
   "outputs": [],
   "source": [
    "import cv2\n",
    "import numpy as np\n",
    "\n",
    "img1 = cv2.imread('thamer.png',0)\n",
    "\n",
    "cv2.imshow('Original_image',img_dilation)          \n",
    "\n",
    "cv2.waitKey()"
   ]
  },
  {
   "cell_type": "code",
   "execution_count": null,
   "metadata": {},
   "outputs": [],
   "source": [
    "import cv2\n",
    "import numpy as np\n",
    "\n",
    "img1 = cv2.imread('thamer.png',0)\n",
    "\n",
    "ret, otsu = cv2.threshold(img1, 120, 255, cv2.THRESH_OTSU)\n",
    "\n",
    "kernel = np.ones((1,2), np.uint8)\n",
    "\n",
    "\n",
    "img_dilation = cv2.erode(otsu, kernel, iterations=5)\n",
    "\n",
    "imagem = cv2.bitwise_not(img_dilation)\n",
    "\n",
    "cv2.imshow('Dilated_image',img_dilation)          \n",
    "\n",
    "cv2.waitKey()"
   ]
  },
  {
   "cell_type": "code",
   "execution_count": null,
   "metadata": {},
   "outputs": [],
   "source": [
    "import cv2\n",
    "import numpy as np\n",
    "from counting_verticle_white_spaces import counting_verticle_white_spaces\n",
    "\n",
    "img1 = cv2.imread('thamer.png',0)\n",
    "\n",
    "ret, otsu = cv2.threshold(img1, 120, 255, cv2.THRESH_OTSU)\n",
    "\n",
    "kernel = np.ones((1,2), np.uint8)\n",
    "\n",
    "\n",
    "img_dilation = cv2.erode(otsu, kernel, iterations=5)\n",
    "segment_left,segment_right,ver = counting_verticle_white_spaces(otsu,img_dilation)\n",
    "\n",
    "cv2.imshow(\"segment_left\",segment_right)\n",
    "cv2.waitKey()\n",
    "\n",
    "try:\n",
    "        \n",
    "    cv2.destroyAllWindows()\n",
    "    if ver!=0:\n",
    "        table_process(segment_right)\n",
    "    else:\n",
    "        return\n",
    "        \n",
    "        \n",
    "except:\n",
    "    exception=exception+1\n",
    "\n",
    "\n"
   ]
  },
  {
   "cell_type": "code",
   "execution_count": null,
   "metadata": {},
   "outputs": [
    {
     "data": {
      "image/png": "[encoded data removed]",
      "text/plain": [
       "<Figure size 432x288 with 1 Axes>"
      ]
     },
     "metadata": {
      "needs_background": "light"
     },
     "output_type": "display_data"
    }
   ],
   "source": [
    "# importing required libraries of opencv\n",
    "import cv2\n",
    "\n",
    "# importing library for plotting\n",
    "from matplotlib import pyplot as plt\n",
    "\n",
    "# reads an input image\n",
    "img = cv2.imread('speak.png',1)\n",
    "\n",
    "# find frequency of pixels in range 0-255\n",
    "histr = cv2.calcHist([img],[2],None,[256],[0,256])\n",
    "\n",
    "# show the plotting graph of an image\n",
    "plt.plot(histr)\n",
    "plt.show()\n",
    "\n",
    "\n",
    "cv2.imshow(\"original\",img)\n",
    "cv2.waitKey()"
   ]
  },
  {
   "cell_type": "code",
   "execution_count": null,
   "metadata": {},
   "outputs": [],
   "source": []
  }
 ],
 "metadata": {
  "kernelspec": {
   "display_name": "Python 3",
   "language": "python",
   "name": "python3"
  },
  "language_info": {
   "codemirror_mode": {
    "name": "ipython",
    "version": 3
   },
   "file_extension": ".py",
   "mimetype": "text/x-python",
   "name": "python",
   "nbconvert_exporter": "python",
   "pygments_lexer": "ipython3",
   "version": "3.8.5"
  }
 },
 "nbformat": 4,
 "nbformat_minor": 4
}
